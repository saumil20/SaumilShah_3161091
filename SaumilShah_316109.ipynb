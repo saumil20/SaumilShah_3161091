{
  "nbformat": 4,
  "nbformat_minor": 0,
  "metadata": {
    "colab": {
      "provenance": [],
      "authorship_tag": "ABX9TyOQGxWQI8kxGX5KPD2B50lK",
      "include_colab_link": true
    },
    "kernelspec": {
      "name": "python3",
      "display_name": "Python 3"
    },
    "language_info": {
      "name": "python"
    }
  },
  "cells": [
    {
      "cell_type": "markdown",
      "metadata": {
        "id": "view-in-github",
        "colab_type": "text"
      },
      "source": [
        "<a href=\"https://colab.research.google.com/github/saumil20/SaumilShah_3161091/blob/main/SaumilShah_316109.ipynb\" target=\"_parent\"><img src=\"https://colab.research.google.com/assets/colab-badge.svg\" alt=\"Open In Colab\"/></a>"
      ]
    },
    {
      "cell_type": "code",
      "execution_count": null,
      "metadata": {
        "id": "3ZvJZ3gG0Hom"
      },
      "outputs": [],
      "source": [
        "import random\n",
        "\n",
        "def guess_number():\n",
        "    num = random.randint(1, 100) # Generates a random number between 1 and 100\n",
        "    count = 0 # Initializes a variable to keep track of the number of guesses\n",
        "    while True:\n",
        "        guess = input(\"Guess a number between 1 and 100 (or type 'q' to quit): \") # Prompts the user to guess a number\n",
        "        if guess == 'q':\n",
        "            print(\"Quitting game...\") # Prints a message indicating that the game is quitting if the user enters 'q'\n",
        "            break # Exits the game loop if the user enters 'q'\n",
        "        guess = int(guess) # Converts the user's input to an integer\n",
        "        count += 1 # Increments the number of guesses\n",
        "        if guess == num:\n",
        "            print(\"Congratulations! You guessed the number in\", count, \"tries.\") # Prints a congratulatory message with the number of guesses if the user guesses correctly\n",
        "            break # Exits the game loop if the user guesses correctly\n",
        "        elif guess < num:\n",
        "            print(\"Too low. Try again.\") # Prints a message indicating that the guess is too low\n",
        "        else:\n",
        "            print(\"Too high. Try again.\") # Prints a message indicating that the guess is too high\n",
        "\n"
      ]
    }
  ]
}