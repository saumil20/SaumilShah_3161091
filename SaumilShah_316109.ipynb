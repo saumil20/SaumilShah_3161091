{
  "nbformat": 4,
  "nbformat_minor": 0,
  "metadata": {
    "colab": {
      "provenance": [],
      "authorship_tag": "ABX9TyOThIEYMiiUFYepkfZhFOuP",
      "include_colab_link": true
    },
    "kernelspec": {
      "name": "python3",
      "display_name": "Python 3"
    },
    "language_info": {
      "name": "python"
    }
  },
  "cells": [
    {
      "cell_type": "markdown",
      "metadata": {
        "id": "view-in-github",
        "colab_type": "text"
      },
      "source": [
        "<a href=\"https://colab.research.google.com/github/saumil20/SaumilShah_3161091/blob/main/SaumilShah_316109.ipynb\" target=\"_parent\"><img src=\"https://colab.research.google.com/assets/colab-badge.svg\" alt=\"Open In Colab\"/></a>"
      ]
    },
    {
      "cell_type": "code",
      "source": [
        "import random\n",
        "num = random.randint(1, 100) # Generates a random number between 1 and 100\n",
        "count = 0 # Initializes a variable to keep track of the number of guesses\n",
        "    \n",
        "while True:\n",
        "  guess = input(\"Guess a number between 1 and 100 (or type 'q' to quit): \") # Prompts the user to guess a number\n",
        "  if guess == 'q':\n",
        "    print(\"Quitting game...\") # Prints a message indicating that the game is quitting if the user enters 'q'\n",
        "    break # Exits the game loop if the user enters 'q'\n",
        "    guess = int(guess) # Converts the user's input to an integer\n",
        "    count += 1 # Increments the number of guesses\n",
        "  else:\n",
        "    if int(guess) == num:\n",
        "      print(\"Congratulations! You guessed the number in\", count, \"tries.\") # Prints a congratulatory message with the number of guesses if the user guesses correctly\n",
        "      break # Exits the game loop if the user guesses correctly\n",
        "    elif int(guess) < num:\n",
        "      print(\"Too low. Try again.\") # Prints a message indicating that the guess is too low\n",
        "    else:\n",
        "      print(\"Too high. Try again.\") # Prints a message indicating that the guess is too high\n"
      ],
      "metadata": {
        "colab": {
          "base_uri": "https://localhost:8080/"
        },
        "id": "nDkD05YT5ZPu",
        "outputId": "7480e2c6-707f-4121-f28b-ba8e6a06a56a"
      },
      "execution_count": 13,
      "outputs": [
        {
          "output_type": "stream",
          "name": "stdout",
          "text": [
            "Guess a number between 1 and 100 (or type 'q' to quit): q\n",
            "Quitting game...\n"
          ]
        }
      ]
    },
    {
      "cell_type": "code",
      "source": [],
      "metadata": {
        "id": "JjQCDkLr7xXv"
      },
      "execution_count": null,
      "outputs": []
    }
  ]
}